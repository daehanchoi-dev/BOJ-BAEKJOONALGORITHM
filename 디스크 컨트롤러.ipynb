{
 "cells": [
  {
   "cell_type": "code",
   "execution_count": 113,
   "metadata": {},
   "outputs": [],
   "source": [
    "def solution(jobs):\n",
    "    import heapq\n",
    "\n",
    "    # 1. jobs 정렬\n",
    "    jobs.sort()\n",
    "    answer = 0\n",
    "    n = 0\n",
    "    # 2. 최초 시간 설정\n",
    "    time = jobs[0][0]\n",
    "    # 3. 우선순위 큐 생성\n",
    "    pq = []\n",
    "    \n",
    "    # 4. job이 빌 떄까지 다음을 반복합니다.\n",
    "    while jobs:\n",
    "        # 1. jobs의 첫 원소를 꺼내옵니다. ( pop 명령어 실행시 실행 횟수에 따라 첫번째, 두번째 ... n 번째 배열 추출)\n",
    "        (request, expend) = jobs.pop(0)\n",
    "        # 2. n에 1을 더해줍니다.\n",
    "        n += 1\n",
    "        # 3. time에 소요 시간 expend를 더해줍니다.\n",
    "        time += expend\n",
    "        # 4. answer에 현재 시간 time에서 요청 시간 request를 뺸 값을 더해줍니다.\n",
    "        answer += (time - request)\n",
    "        \n",
    "        # 5. jobs가 비지 않고, jobs[0][0]일 떄 다음을 반복합니다.\n",
    "        while jobs and jobs[0][0] < time:\n",
    "            # 1. jobs의 첫 원소를 꺼내옵니다. \n",
    "            (request, expend) = jobs.pop(0)\n",
    "            # 2. 해당 원소를 expend 기준으로 pq에다 저장합니다.\n",
    "            heapq.heappush(pq, (-expend, request))\n",
    "\n",
    "        # 6. pq가 빌 떄까지 다음을 반복합니다.\n",
    "        while pq:\n",
    "            # 1. pq에서 원소를 꺼냅니다.\n",
    "            (expend, request) = heapq.heappop(pq)\n",
    "            # 2. jobs에 첫 원소로 저장합니다.\n",
    "            jobs.insert(0, [request, -expend])\n",
    "\n",
    "    # 5. answer에 n을 나눠준 몫을 저장하고 반환합니다.\n",
    "    answer //= n\n",
    "    return answer"
   ]
  },
  {
   "cell_type": "code",
   "execution_count": 114,
   "metadata": {},
   "outputs": [],
   "source": [
    "jobs = [[0,3],[1,9],[2,6]]\n",
    "(n, m)=jobs.pop(0)"
   ]
  },
  {
   "cell_type": "code",
   "execution_count": 115,
   "metadata": {},
   "outputs": [],
   "source": [
    "import heapq\n",
    "pq = []\n",
    "heapq.heappush(pq, (-m, n))\n"
   ]
  },
  {
   "cell_type": "code",
   "execution_count": 116,
   "metadata": {},
   "outputs": [],
   "source": [
    "(m, n) = heapq.heappop(pq)"
   ]
  },
  {
   "cell_type": "code",
   "execution_count": 117,
   "metadata": {},
   "outputs": [
    {
     "data": {
      "text/plain": [
       "[[1, 9], [2, 6]]"
      ]
     },
     "execution_count": 117,
     "metadata": {},
     "output_type": "execute_result"
    }
   ],
   "source": [
    "jobs"
   ]
  },
  {
   "cell_type": "code",
   "execution_count": 118,
   "metadata": {},
   "outputs": [],
   "source": [
    "jobs.insert(0, [n, -m])"
   ]
  },
  {
   "cell_type": "code",
   "execution_count": 119,
   "metadata": {},
   "outputs": [
    {
     "data": {
      "text/plain": [
       "[[0, 3], [1, 9], [2, 6]]"
      ]
     },
     "execution_count": 119,
     "metadata": {},
     "output_type": "execute_result"
    }
   ],
   "source": [
    "jobs"
   ]
  },
  {
   "cell_type": "code",
   "execution_count": 121,
   "metadata": {},
   "outputs": [
    {
     "data": {
      "text/plain": [
       "[]"
      ]
     },
     "execution_count": 121,
     "metadata": {},
     "output_type": "execute_result"
    }
   ],
   "source": [
    "pq"
   ]
  },
  {
   "cell_type": "code",
   "execution_count": null,
   "metadata": {},
   "outputs": [],
   "source": []
  },
  {
   "cell_type": "code",
   "execution_count": 122,
   "metadata": {},
   "outputs": [
    {
     "data": {
      "text/plain": [
       "[[0, 3], [1, 9], [2, 6]]"
      ]
     },
     "execution_count": 122,
     "metadata": {},
     "output_type": "execute_result"
    }
   ],
   "source": [
    "jobs"
   ]
  },
  {
   "cell_type": "code",
   "execution_count": 123,
   "metadata": {},
   "outputs": [],
   "source": [
    "jobs.sort()"
   ]
  },
  {
   "cell_type": "code",
   "execution_count": 124,
   "metadata": {},
   "outputs": [
    {
     "data": {
      "text/plain": [
       "[[0, 3], [1, 9], [2, 6]]"
      ]
     },
     "execution_count": 124,
     "metadata": {},
     "output_type": "execute_result"
    }
   ],
   "source": [
    "jobs"
   ]
  },
  {
   "cell_type": "code",
   "execution_count": 125,
   "metadata": {},
   "outputs": [
    {
     "data": {
      "text/plain": [
       "0"
      ]
     },
     "execution_count": 125,
     "metadata": {},
     "output_type": "execute_result"
    }
   ],
   "source": [
    "jobs[0][0]"
   ]
  },
  {
   "cell_type": "code",
   "execution_count": 188,
   "metadata": {},
   "outputs": [],
   "source": [
    "def cafe(jobs):\n",
    "    import heapq\n",
    "\n",
    "    # 1. jobs 정렬\n",
    "    jobs.sort()\n",
    "    answer = 0\n",
    "    n = 0\n",
    "    # 2. 최초 시간 설정\n",
    "    time = jobs[0][0]\n",
    "    # 3. 우선순위 큐 생성\n",
    "    pq = []\n",
    "    \n",
    "    # 4. job이 빌 떄까지 다음을 반복합니다.\n",
    "    while jobs:\n",
    "        print('첫번째 while)')\n",
    "        # 1. jobs의 첫 원소를 꺼내옵니다. ( pop 명령어 실행시 실행 횟수에 따라 첫번째, 두번째 ... n 번째 배열 추출)\n",
    "        (request, expend) = jobs.pop(0)\n",
    "        print('Jobs의 첫 원소 꺼내옵니다.',(request, expend))\n",
    "        # 2. n에 1을 더해줍니다.\n",
    "        n += 1\n",
    "        # 3. time에 소요 시간 expend를 더해줍니다.\n",
    "        time += expend\n",
    "        print('time:', time)\n",
    "        # 4. answer에 현재 시간 time에서 요청 시간 request를 뺸 값을 더해줍니다.\n",
    "        answer += (time - request)\n",
    "        print('ans:',answer)\n",
    "        \n",
    "        # 5. jobs가 비지 않고, jobs[0][0]일 떄 다음을 반복합니다.\n",
    "        while jobs and jobs[0][0] < time:\n",
    "            print('2번째 while)')\n",
    "            # 1. jobs의 첫 원소를 꺼내옵니다.\n",
    "            print('jobs',jobs)\n",
    "            (request, expend) = jobs.pop(0)\n",
    "            print('Jobs의 첫 원소를 꺼내옴gg',(request, expend))\n",
    "            print('jobs 다:', jobs)\n",
    "            print('pq다:',pq)\n",
    "            # 2. 해당 원소를 expend 기준으로 pq에다 저장합니다.\n",
    "            heapq.heappush(pq, (-expend, request))\n",
    "            print('jobs에서 꺼낸거 pq 에 삽입:',pq)\n",
    "\n",
    "        # 6. pq가 빌 떄까지 다음을 반복합니다.\n",
    "        while pq:\n",
    "            print('3번째 while')\n",
    "            print('현재 pq:',pq,'현재 jobs:' ,jobs)\n",
    "            # 1. pq에서 원소를 꺼냅니다.\n",
    "            (expend, request) = heapq.heappop(pq)\n",
    "            print(\"pq에서꺼낸 배열:\",(expend, request))\n",
    "            print('나머지 pq:',pq)\n",
    "            # 2. jobs에 첫 원소로 저장합니다.\n",
    "            jobs.insert(0, [request, -expend])\n",
    "            print('jobs첫원소 저장함ㅎ:', jobs)\n",
    "\n",
    "    # 5. answer에 n을 나눠준 몫을 저장하고 반환합니다.\n",
    "    answer //= n\n",
    "    return answer"
   ]
  },
  {
   "cell_type": "code",
   "execution_count": 189,
   "metadata": {},
   "outputs": [],
   "source": [
    "job = [[0,3], [1,9], [2,6]]"
   ]
  },
  {
   "cell_type": "code",
   "execution_count": 190,
   "metadata": {},
   "outputs": [
    {
     "name": "stdout",
     "output_type": "stream",
     "text": [
      "첫번째 while)\n",
      "Jobs의 첫 원소 꺼내옵니다. (0, 3)\n",
      "time: 3\n",
      "ans: 3\n",
      "2번째 while)\n",
      "jobs [[1, 9], [2, 6]]\n",
      "Jobs의 첫 원소를 꺼내옴gg (1, 9)\n",
      "jobs 다: [[2, 6]]\n",
      "pq다: []\n",
      "jobs에서 꺼낸거 pq 에 삽입: [(-9, 1)]\n",
      "2번째 while)\n",
      "jobs [[2, 6]]\n",
      "Jobs의 첫 원소를 꺼내옴gg (2, 6)\n",
      "jobs 다: []\n",
      "pq다: [(-9, 1)]\n",
      "jobs에서 꺼낸거 pq 에 삽입: [(-9, 1), (-6, 2)]\n",
      "3번째 while\n",
      "현재 pq: [(-9, 1), (-6, 2)] 현재 jobs: []\n",
      "pq에서꺼낸 배열: (-9, 1)\n",
      "나머지 pq: [(-6, 2)]\n",
      "jobs첫원소 저장함ㅎ: [[1, 9]]\n",
      "3번째 while\n",
      "현재 pq: [(-6, 2)] 현재 jobs: [[1, 9]]\n",
      "pq에서꺼낸 배열: (-6, 2)\n",
      "나머지 pq: []\n",
      "jobs첫원소 저장함ㅎ: [[2, 6], [1, 9]]\n",
      "첫번째 while)\n",
      "Jobs의 첫 원소 꺼내옵니다. (2, 6)\n",
      "time: 9\n",
      "ans: 10\n",
      "2번째 while)\n",
      "jobs [[1, 9]]\n",
      "Jobs의 첫 원소를 꺼내옴gg (1, 9)\n",
      "jobs 다: []\n",
      "pq다: []\n",
      "jobs에서 꺼낸거 pq 에 삽입: [(-9, 1)]\n",
      "3번째 while\n",
      "현재 pq: [(-9, 1)] 현재 jobs: []\n",
      "pq에서꺼낸 배열: (-9, 1)\n",
      "나머지 pq: []\n",
      "jobs첫원소 저장함ㅎ: [[1, 9]]\n",
      "첫번째 while)\n",
      "Jobs의 첫 원소 꺼내옵니다. (1, 9)\n",
      "time: 18\n",
      "ans: 27\n"
     ]
    },
    {
     "data": {
      "text/plain": [
       "9"
      ]
     },
     "execution_count": 190,
     "metadata": {},
     "output_type": "execute_result"
    }
   ],
   "source": [
    "cafe(job)"
   ]
  },
  {
   "cell_type": "code",
   "execution_count": null,
   "metadata": {},
   "outputs": [],
   "source": []
  },
  {
   "cell_type": "code",
   "execution_count": null,
   "metadata": {},
   "outputs": [],
   "source": []
  },
  {
   "cell_type": "code",
   "execution_count": null,
   "metadata": {},
   "outputs": [],
   "source": []
  }
 ],
 "metadata": {
  "kernelspec": {
   "display_name": "Python 3",
   "language": "python",
   "name": "python3"
  },
  "language_info": {
   "codemirror_mode": {
    "name": "ipython",
    "version": 3
   },
   "file_extension": ".py",
   "mimetype": "text/x-python",
   "name": "python",
   "nbconvert_exporter": "python",
   "pygments_lexer": "ipython3",
   "version": "3.6.7"
  }
 },
 "nbformat": 4,
 "nbformat_minor": 2
}
